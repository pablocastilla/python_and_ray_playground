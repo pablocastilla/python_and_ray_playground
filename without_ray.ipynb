{
 "cells": [
  {
   "cell_type": "code",
   "execution_count": 1,
   "metadata": {},
   "outputs": [
    {
     "name": "stdout",
     "output_type": "stream",
     "text": [
      "Generating data time: 16.88753032684326\n"
     ]
    }
   ],
   "source": [
    "import time\n",
    "start_time = time.time()\n",
    "\n",
    "# calculate the average of a list of numbers with type checking\n",
    "def average(numbers: list[float]) -> float:\n",
    "    return sum(numbers) / len(numbers)\n",
    "\n",
    "# generate a few lists of random numbers with different lengths and temperatures using ray\n",
    "import random\n",
    "random.seed(0)\n",
    "\n",
    "def generate_floor_data() -> list[float]:\n",
    "    return [random.random()*20+1 for _ in range(10000000)]\n",
    "\n",
    "floor_data = [generate_floor_data() for _ in range(10)]\n",
    "\n",
    "print(f\"Generating data time: {time.time() - start_time}\")\n",
    "\n"
   ]
  },
  {
   "cell_type": "code",
   "execution_count": 2,
   "metadata": {},
   "outputs": [
    {
     "name": "stdout",
     "output_type": "stream",
     "text": [
      "[10.999982455932416, 10.998462753752216, 10.999299623857615, 11.000735261262987, 11.000210941370467, 10.99986313288683, 11.000844082084352, 10.998527939737537, 10.998027951095597, 10.99981065519535]\n",
      "Total time: 17.573246479034424\n"
     ]
    }
   ],
   "source": [
    "\n",
    "averages = [average(data) for data in floor_data]\n",
    "print(averages)\n",
    "print(f\"Total time: {time.time() - start_time}\")"
   ]
  }
 ],
 "metadata": {
  "kernelspec": {
   "display_name": ".venv",
   "language": "python",
   "name": "python3"
  },
  "language_info": {
   "codemirror_mode": {
    "name": "ipython",
    "version": 3
   },
   "file_extension": ".py",
   "mimetype": "text/x-python",
   "name": "python",
   "nbconvert_exporter": "python",
   "pygments_lexer": "ipython3",
   "version": "3.11.2"
  },
  "orig_nbformat": 4
 },
 "nbformat": 4,
 "nbformat_minor": 2
}
